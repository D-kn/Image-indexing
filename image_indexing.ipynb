{
 "cells": [
  {
   "cell_type": "markdown",
   "metadata": {},
   "source": [
    "# Importation des librairies"
   ]
  },
  {
   "cell_type": "code",
   "execution_count": 1,
   "metadata": {},
   "outputs": [],
   "source": [
    "import cv2\n",
    "import numpy as np\n",
    "import matplotlib.pyplot as plt\n",
    "import os\n",
    "from math import sqrt"
   ]
  },
  {
   "cell_type": "markdown",
   "metadata": {},
   "source": [
    "### Calcul de l'histogramme"
   ]
  },
  {
   "cell_type": "code",
   "execution_count": 2,
   "metadata": {},
   "outputs": [],
   "source": [
    "def calculHist(im, bins):\n",
    "    bgr_planes = cv2.split(im)\n",
    "    histSize = 32\n",
    "    histRange = (0, 32) \n",
    "    accumulate = False\n",
    "    # Calcul de l'histogramme par chaines de couleur\n",
    "    b_hist = cv2.calcHist(bgr_planes, [0], None, [histSize], histRange, accumulate=accumulate)\n",
    "    g_hist = cv2.calcHist(bgr_planes, [1], None, [histSize], histRange, accumulate=accumulate)\n",
    "    r_hist = cv2.calcHist(bgr_planes, [2], None, [histSize], histRange, accumulate=accumulate)\n",
    "    # Regroupement des histogrammes de toutes les chaines\n",
    "    hist = np.concatenate((b_hist,g_hist,r_hist), axis=None)\n",
    "    return hist"
   ]
  },
  {
   "cell_type": "markdown",
   "metadata": {},
   "source": [
    "### Calcul du moment de Hu"
   ]
  },
  {
   "cell_type": "code",
   "execution_count": 3,
   "metadata": {},
   "outputs": [],
   "source": [
    "def calMomentDeHu(im):\n",
    "    im = cv2.cvtColor(im, cv2.COLOR_BGR2GRAY)\n",
    "    mt = cv2.HuMoments(cv2.moments(im))\n",
    "    return mt.flatten()"
   ]
  },
  {
   "cell_type": "markdown",
   "metadata": {},
   "source": [
    "### Calcul distance entre features de deux images"
   ]
  },
  {
   "cell_type": "code",
   "execution_count": 4,
   "metadata": {},
   "outputs": [],
   "source": [
    "def chi2Distance(A, B, epsilon=1e-10): \n",
    "    chi = 0.5 * np.sum([((a - b) ** 2) / (a + b + epsilon) for (a, b) in zip(A, B)]) \n",
    "    return chi "
   ]
  },
  {
   "cell_type": "markdown",
   "metadata": {},
   "source": [
    "### Distance ecludienne"
   ]
  },
  {
   "cell_type": "code",
   "execution_count": 5,
   "metadata": {},
   "outputs": [],
   "source": [
    "def ecluDistance(A, B):\n",
    "    eclud = np.sum([((a - b) ** 2) for (a, b) in zip(A, B)]) \n",
    "    eclud = sqrt(eclud)\n",
    "    return eclud"
   ]
  },
  {
   "cell_type": "markdown",
   "metadata": {},
   "source": [
    "### Construction du dictionnaire contenant les features"
   ]
  },
  {
   "cell_type": "code",
   "execution_count": 6,
   "metadata": {},
   "outputs": [],
   "source": [
    "datapth = \"./coil-100/\"\n",
    "featureDict = {}\n",
    "\n",
    "for imName in os.listdir(datapth):\n",
    "    list_features = []\n",
    "    if imName.split(\".\")[1]==\"png\": # Rechercher les images uniquement\n",
    "        img = cv2.imread(datapth + imName)\n",
    "        hist = calculHist(img, bins=32)\n",
    "        mt = calMomentDeHu(img)\n",
    "        list_features.insert(0, hist)\n",
    "        list_features.insert(1, mt)\n",
    "        featureDict[imName]=list_features\n",
    "        del img\n",
    "        del list_features\n",
    "        \n",
    "# Regroupement des valeurs deux feautres(histogramme et moment de HU)       \n",
    "list_compt = []\n",
    "for imName in list(featureDict.keys()):\n",
    "    list_compt.append(np.concatenate((featureDict[imName][0], featureDict[imName][1]), axis=None))\n",
    "#convertion en array \n",
    "X=np.array(list_compt)"
   ]
  },
  {
   "cell_type": "markdown",
   "metadata": {},
   "source": [
    "# Application du KMeans"
   ]
  },
  {
   "cell_type": "markdown",
   "metadata": {},
   "source": [
    "### Methode d'Elbow pour le choix du nombre de clusters optimal"
   ]
  },
  {
   "cell_type": "code",
   "execution_count": 7,
   "metadata": {},
   "outputs": [
    {
     "data": {
      "text/plain": [
       "Text(0, 0.5, 'WCSS')"
      ]
     },
     "execution_count": 7,
     "metadata": {},
     "output_type": "execute_result"
    },
    {
     "data": {
      "image/png": "[encoded data removed]",
      "text/plain": [
       "<Figure size 432x288 with 1 Axes>"
      ]
     },
     "metadata": {
      "needs_background": "light"
     },
     "output_type": "display_data"
    }
   ],
   "source": [
    "# choisir le nombre de clusters\n",
    "from sklearn.cluster import KMeans\n",
    "wcss = []\n",
    "\n",
    "for i in range(1, 11):\n",
    "    kmeans = KMeans(n_clusters = i, init= 'k-means++', max_iter=300, \n",
    "                    n_init=10, random_state= 0)\n",
    "    \n",
    "    kmeans.fit(X)    \n",
    "    wcss.append(kmeans.inertia_)\n",
    "plt.plot(range(1, 11), wcss, '-bx')\n",
    "plt.title('La methode d\\'Elbow')\n",
    "plt.xlabel('Nombre de cluster')\n",
    "plt.ylabel('WCSS')"
   ]
  },
  {
   "cell_type": "code",
   "execution_count": 8,
   "metadata": {},
   "outputs": [],
   "source": [
    "kmeans = KMeans(n_clusters = 3, init= 'k-means++', max_iter=300, \n",
    "                    n_init=10, random_state= 0)\n",
    "\n",
    "y_kmeans = kmeans.fit_predict(X)"
   ]
  },
  {
   "cell_type": "code",
   "execution_count": 9,
   "metadata": {},
   "outputs": [
    {
     "data": {
      "text/plain": [
       "(7200, 103)"
      ]
     },
     "execution_count": 9,
     "metadata": {},
     "output_type": "execute_result"
    }
   ],
   "source": [
    "X.shape"
   ]
  },
  {
   "cell_type": "markdown",
   "metadata": {},
   "source": [
    "### Representation 2D du Cluster"
   ]
  },
  {
   "cell_type": "code",
   "execution_count": 10,
   "metadata": {},
   "outputs": [
    {
     "data": {
      "image/png": "[encoded data removed]",
      "text/plain": [
       "<Figure size 648x432 with 1 Axes>"
      ]
     },
     "metadata": {
      "needs_background": "light"
     },
     "output_type": "display_data"
    }
   ],
   "source": [
    "plt.figure(figsize=(9, 6))\n",
    "plt.scatter(X[y_kmeans == 0, 0], X[y_kmeans == 0, 1], s=100, c='red', label = 'images du Cluster 1')\n",
    "plt.scatter(X[y_kmeans == 1, 0], X[y_kmeans == 1, 1], s=100, c='blue', label = 'images du Cluster 2')\n",
    "plt.scatter(X[y_kmeans == 2, 0], X[y_kmeans == 2, 1], s=100, c='green', label = 'images du Cluster 3')\n",
    "plt.scatter(kmeans.cluster_centers_[:, 0], kmeans.cluster_centers_[:, 1], s=300, \n",
    "                                                c='orange', label='Centroids', )\n",
    "plt.title(\"Clusters d'images\", fontsize=14)\n",
    "plt.legend()\n",
    "plt.show()"
   ]
  },
  {
   "cell_type": "markdown",
   "metadata": {},
   "source": [
    "### Calcul des distances entre elements de meme cluster"
   ]
  },
  {
   "cell_type": "code",
   "execution_count": 11,
   "metadata": {},
   "outputs": [],
   "source": [
    "import operator\n",
    "\n",
    "def rechercheKMeans(img, dict_feature):\n",
    "    img = cv2.imread(img)\n",
    "    hist = calculHist(img, 32)\n",
    "    mt = calMomentDeHu(img)\n",
    "    # on regroupe les valeurs hist. et mt. en un seul array\n",
    "    list_im = np.array(np.concatenate((hist,mt), axis=None)).reshape(1,-1)\n",
    "    im_cluster = kmeans.predict(list_im)\n",
    "    clusters = kmeans.predict(X)\n",
    "    distanceResultat = {}\n",
    "    for i in range(len(dict_feature.keys())):\n",
    "        if clusters[i]==im_cluster[0]:  #On verifie l'appartenance de l'image au meme cluster\n",
    "            #Distance entre l'image de query et les images dans la base appartenant au meme cluster\n",
    "            d = 0.5*chi2Distance(hist, dict_feature[list(featureDict.keys())[i]][0]) + 0.5*ecluDistance(mt,\n",
    "                                    dict_feature[list(featureDict.keys())[i]][1])\n",
    "            distanceResultat[list(featureDict.keys())[i]]=d\n",
    "          #On ordonne notre dictionnaire selon les distances\n",
    "            distanceResulatsorted = dict(sorted(distanceResultat.items(),\n",
    "                                        key=operator.itemgetter(1),reverse=False))\n",
    "    return distanceResulatsorted"
   ]
  },
  {
   "cell_type": "markdown",
   "metadata": {},
   "source": [
    "### Test"
   ]
  },
  {
   "cell_type": "code",
   "execution_count": 12,
   "metadata": {},
   "outputs": [],
   "source": [
    "#selectionner l'image\n",
    "impath = \"./coil-100/obj42__0.png\"\n",
    "#Appeler la fonction\n",
    "DistanceKMeans = rechercheKMeans(impath, featureDict)"
   ]
  },
  {
   "cell_type": "markdown",
   "metadata": {},
   "source": [
    "#### Afficher les images avec les n premieres Distances"
   ]
  },
  {
   "cell_type": "code",
   "execution_count": 13,
   "metadata": {},
   "outputs": [
    {
     "name": "stdout",
     "output_type": "stream",
     "text": [
      "Images \t\t\t Distances\n"
     ]
    },
    {
     "data": {
      "text/plain": [
       "[('obj42__0.png', 0.0),\n",
       " ('obj42__170.png', 323.71332357682644),\n",
       " ('obj42__10.png', 441.15884832775095),\n",
       " ('obj78__180.png', 500.9079271829121),\n",
       " ('obj42__160.png', 517.6025354475902),\n",
       " ('obj42__155.png', 533.3876114183493)]"
      ]
     },
     "execution_count": 13,
     "metadata": {},
     "output_type": "execute_result"
    }
   ],
   "source": [
    "from itertools import islice\n",
    "\n",
    "def take(n, imDistance):\n",
    "    \"Retourner les n premiers items\"\n",
    "    return list(islice(imDistance, n))\n",
    "\n",
    "print(\"Images \\t\\t\\t Distances\")\n",
    "take(6, DistanceKMeans.items())"
   ]
  },
  {
   "cell_type": "markdown",
   "metadata": {},
   "source": [
    "# Kd-tree"
   ]
  },
  {
   "cell_type": "code",
   "execution_count": 14,
   "metadata": {},
   "outputs": [],
   "source": [
    "from sklearn.neighbors import KDTree\n",
    "tree = KDTree(X)"
   ]
  },
  {
   "cell_type": "code",
   "execution_count": 15,
   "metadata": {},
   "outputs": [],
   "source": [
    "import operator\n",
    "def rechercheKd_tree(img, dict_feature):\n",
    "    img = cv2.imread(img)\n",
    "    hist = calculHist(img, 32)\n",
    "    mt = calMomentDeHu(img)\n",
    "    # on regroupe les valeurs hist. et mt. en un seul array\n",
    "    list_im = np.array(np.concatenate((hist,mt), axis=None)).reshape(1, -1)\n",
    "    tree = KDTree(X)\n",
    "    nearest_dist, nearest_ind = tree.query(list_im, k=100)  # Prenons les 100 distances les plus proches\n",
    "    distanceResultat = {}\n",
    "    for i in nearest_ind[0]:\n",
    "        d = 0.5*chi2Distance(hist, dict_feature[list(featureDict.keys())[i]][0]) + 0.5*ecluDistance(mt,\n",
    "                                dict_feature[list(featureDict.keys())[i]][1])\n",
    "        distanceResultat[list(featureDict.keys())[i]]=d\n",
    "      #On ordonne notre dictionnaire selon les distances\n",
    "        distanceResulatsorted = dict(sorted(distanceResultat.items(),\n",
    "                                    key=operator.itemgetter(1),reverse=False))\n",
    "    return distanceResulatsorted"
   ]
  },
  {
   "cell_type": "markdown",
   "metadata": {},
   "source": [
    "## Test"
   ]
  },
  {
   "cell_type": "markdown",
   "metadata": {},
   "source": [
    "### Appeler la fonction rechercheKd_tree()"
   ]
  },
  {
   "cell_type": "code",
   "execution_count": 16,
   "metadata": {},
   "outputs": [],
   "source": [
    "DistanceKd_tree = rechercheKd_tree(impath, featureDict)"
   ]
  },
  {
   "cell_type": "markdown",
   "metadata": {},
   "source": [
    "### Afficher les images avec les n premieres Distance"
   ]
  },
  {
   "cell_type": "code",
   "execution_count": 17,
   "metadata": {},
   "outputs": [
    {
     "name": "stdout",
     "output_type": "stream",
     "text": [
      "Images \t\t\t Distances\n"
     ]
    },
    {
     "data": {
      "text/plain": [
       "[('obj42__0.png', 0.0),\n",
       " ('obj42__170.png', 323.71332357682644),\n",
       " ('obj42__10.png', 441.15884832775095),\n",
       " ('obj78__180.png', 500.9079271829121),\n",
       " ('obj42__160.png', 517.6025354475902),\n",
       " ('obj42__155.png', 533.3876114183493)]"
      ]
     },
     "execution_count": 17,
     "metadata": {},
     "output_type": "execute_result"
    }
   ],
   "source": [
    "from itertools import islice\n",
    "\n",
    "def take(n, imDistance):\n",
    "    \"Retourner les n premiers items\"\n",
    "    return list(islice(imDistance, n))\n",
    "\n",
    "print(\"Images \\t\\t\\t Distances\")\n",
    "take(6, DistanceKd_tree.items())"
   ]
  },
  {
   "cell_type": "markdown",
   "metadata": {},
   "source": [
    "# Calcul en temps"
   ]
  },
  {
   "cell_type": "markdown",
   "metadata": {},
   "source": [
    "#### Avec KMeans"
   ]
  },
  {
   "cell_type": "code",
   "execution_count": 18,
   "metadata": {},
   "outputs": [
    {
     "name": "stdout",
     "output_type": "stream",
     "text": [
      "Temps de calcul avec KMeans: 9.569715023040771\n"
     ]
    }
   ],
   "source": [
    "import time\n",
    "start = time.time()\n",
    "rechercheKMeans(impath, featureDict)\n",
    "end = time.time()\n",
    "a=end-start\n",
    "print(\"Temps de calcul avec KMeans:\", a)"
   ]
  },
  {
   "cell_type": "markdown",
   "metadata": {},
   "source": [
    "#### Avec Kd-tree"
   ]
  },
  {
   "cell_type": "code",
   "execution_count": 19,
   "metadata": {},
   "outputs": [
    {
     "name": "stdout",
     "output_type": "stream",
     "text": [
      "Temps de calcul avec Kd-tree:  0.1813058853149414\n"
     ]
    }
   ],
   "source": [
    "start = time.time()\n",
    "rechercheKd_tree(impath, featureDict)\n",
    "end = time.time()\n",
    "b=end-start\n",
    "print(\"Temps de calcul avec Kd-tree: \", b)"
   ]
  },
  {
   "cell_type": "markdown",
   "metadata": {},
   "source": [
    "$Conclusion$: Du point de vue calcul, On peut dire que les kd-tree se montrent plus optimales que les KMeans"
   ]
  }
 ],
 "metadata": {
  "kernelspec": {
   "display_name": "Python 3",
   "language": "python",
   "name": "python3"
  },
  "language_info": {
   "codemirror_mode": {
    "name": "ipython",
    "version": 3
   },
   "file_extension": ".py",
   "mimetype": "text/x-python",
   "name": "python",
   "nbconvert_exporter": "python",
   "pygments_lexer": "ipython3",
   "version": "3.6.10"
  }
 },
 "nbformat": 4,
 "nbformat_minor": 4
}
